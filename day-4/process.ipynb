{
 "cells": [
  {
   "cell_type": "code",
   "execution_count": null,
   "metadata": {},
   "outputs": [],
   "source": [
    "import regex as re"
   ]
  },
  {
   "cell_type": "code",
   "execution_count": null,
   "metadata": {},
   "outputs": [],
   "source": [
    "with open(\"input.txt\") as input:\n",
    "    total = 0\n",
    "    for line in input:\n",
    "        winning_numbers, my_numbers = line.split(\":\")[1].split(\"|\")\n",
    "        \n",
    "        winning_numbers = set(re.findall(r\"\\d+\", winning_numbers))\n",
    "        my_numbers = set(re.findall(r\"\\d+\", my_numbers))\n",
    "        \n",
    "        num_matches = len(winning_numbers.intersection(my_numbers))\n",
    "        score = 2**(num_matches-1) if num_matches > 0 else 0\n",
    "        total += score"
   ]
  },
  {
   "cell_type": "code",
   "execution_count": null,
   "metadata": {},
   "outputs": [],
   "source": [
    "print(total) # 23673"
   ]
  },
  {
   "cell_type": "code",
   "execution_count": null,
   "metadata": {},
   "outputs": [],
   "source": [
    "total_cards = {}\n",
    "\n",
    "with open(\"input.txt\") as input:\n",
    "    current_game = 1\n",
    "    for line in input:\n",
    "        total_cards[current_game] = total_cards.get(current_game, 0) + 1\n",
    "       \n",
    "        winning_numbers, my_numbers = line.split(\":\")[1].split(\"|\")\n",
    "        winning_numbers = set(re.findall(r\"\\d+\", winning_numbers))\n",
    "        my_numbers = set(re.findall(r\"\\d+\", my_numbers))\n",
    "        \n",
    "        num_matches = len(winning_numbers.intersection(my_numbers))\n",
    "        for i in range(current_game+1, current_game+num_matches+1):\n",
    "            total_cards[i] = total_cards.get(i, 0) + 1 * total_cards[current_game]\n",
    "        current_game += 1\n",
    "\n"
   ]
  },
  {
   "cell_type": "code",
   "execution_count": null,
   "metadata": {},
   "outputs": [],
   "source": [
    "print(sum(total_cards.values()))"
   ]
  }
 ],
 "metadata": {
  "kernelspec": {
   "display_name": "base",
   "language": "python",
   "name": "python3"
  },
  "language_info": {
   "codemirror_mode": {
    "name": "ipython",
    "version": 3
   },
   "file_extension": ".py",
   "mimetype": "text/x-python",
   "name": "python",
   "nbconvert_exporter": "python",
   "pygments_lexer": "ipython3",
   "version": "3.11.5"
  }
 },
 "nbformat": 4,
 "nbformat_minor": 2
}
