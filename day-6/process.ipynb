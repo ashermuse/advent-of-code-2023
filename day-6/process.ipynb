{
 "cells": [
  {
   "cell_type": "code",
   "execution_count": null,
   "metadata": {},
   "outputs": [],
   "source": [
    "import regex as re\n",
    "from functools import reduce"
   ]
  },
  {
   "cell_type": "code",
   "execution_count": null,
   "metadata": {},
   "outputs": [],
   "source": [
    "with open(\"input.txt\") as input:\n",
    "    data = input.read()\n",
    "\n",
    "def compute_if_win(time, distance, speed):\n",
    "    return distance < speed * (time - speed)\n",
    "\n",
    "components = re.findall(r\"\\d+\", data)\n",
    "race_info = [(int(components[i]), int(components[i + len(components) // 2])) for i in range(len(components)//2)]\n",
    "\n",
    "# time in milliseconds, distance in millimeters\n",
    "possible_ways_to_win = []\n",
    "for race_time, race_distance in race_info:\n",
    "    total = 0\n",
    "    for i in range(race_time):\n",
    "        if compute_if_win(race_time, race_distance, i):\n",
    "            total += 1\n",
    "    possible_ways_to_win.append(total)"
   ]
  },
  {
   "cell_type": "code",
   "execution_count": null,
   "metadata": {},
   "outputs": [],
   "source": [
    "reduce(lambda x, y: x*y, possible_ways_to_win)"
   ]
  },
  {
   "cell_type": "code",
   "execution_count": null,
   "metadata": {},
   "outputs": [],
   "source": [
    "with open(\"input.txt\") as input:\n",
    "    data = input.read()\n",
    "\n",
    "def compute_if_win(time, distance, speed):\n",
    "    return distance < speed * (time - speed)\n",
    "\n",
    "components = re.findall(r\"[\\d ]+\", data)\n",
    "race_info = tuple([int(x.replace(\" \", \"\")) for x in components])\n",
    "\n",
    "# time in milliseconds, distance in millimeters\n",
    "possible_ways_to_win = []\n",
    "race_time, race_distance = race_info\n",
    "total = 0\n",
    "for i in range(race_time):\n",
    "    if compute_if_win(race_time, race_distance, i):\n",
    "        total += 1\n",
    "possible_ways_to_win.append(total)"
   ]
  },
  {
   "cell_type": "code",
   "execution_count": null,
   "metadata": {},
   "outputs": [],
   "source": [
    "reduce(lambda x, y: x*y, possible_ways_to_win)"
   ]
  }
 ],
 "metadata": {
  "kernelspec": {
   "display_name": "base",
   "language": "python",
   "name": "python3"
  },
  "language_info": {
   "codemirror_mode": {
    "name": "ipython",
    "version": 3
   },
   "file_extension": ".py",
   "mimetype": "text/x-python",
   "name": "python",
   "nbconvert_exporter": "python",
   "pygments_lexer": "ipython3",
   "version": "3.11.5"
  }
 },
 "nbformat": 4,
 "nbformat_minor": 2
}
