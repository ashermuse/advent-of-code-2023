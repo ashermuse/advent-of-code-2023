{
 "cells": [
  {
   "cell_type": "code",
   "execution_count": 148,
   "metadata": {},
   "outputs": [],
   "source": [
    "import regex as re\n",
    "import numpy as np"
   ]
  },
  {
   "cell_type": "code",
   "execution_count": 149,
   "metadata": {},
   "outputs": [],
   "source": [
    "def compute_next_val(values : list):\n",
    "    all_diffs = []\n",
    "    diffs = values\n",
    "    while (not np.all(diffs == 0)):\n",
    "        diffs = np.diff(diffs)\n",
    "        \n",
    "        all_diffs.append(diffs[-1])\n",
    "    return values[-1] + sum(all_diffs)"
   ]
  },
  {
   "cell_type": "code",
   "execution_count": 150,
   "metadata": {},
   "outputs": [],
   "source": [
    "with open(\"input.txt\") as input:\n",
    "    lines = [line for line in input]\n",
    "\n",
    "all_digits = np.array([[int(x) for x in re.findall(r'-?\\d+', line)] for line in lines], dtype=np.int64)\n",
    "results_1 = []\n",
    "results_2 = []\n",
    "for digits in all_digits:\n",
    "    results_1.append(compute_next_val(digits))\n",
    "    results_2.append(compute_next_val(list(reversed(digits))))"
   ]
  },
  {
   "cell_type": "code",
   "execution_count": 151,
   "metadata": {},
   "outputs": [
    {
     "name": "stdout",
     "output_type": "stream",
     "text": [
      "1995001648\n",
      "988\n"
     ]
    }
   ],
   "source": [
    "print(sum(results_1))\n",
    "print(sum(results_2))"
   ]
  }
 ],
 "metadata": {
  "kernelspec": {
   "display_name": "base",
   "language": "python",
   "name": "python3"
  },
  "language_info": {
   "codemirror_mode": {
    "name": "ipython",
    "version": 3
   },
   "file_extension": ".py",
   "mimetype": "text/x-python",
   "name": "python",
   "nbconvert_exporter": "python",
   "pygments_lexer": "ipython3",
   "version": "3.11.5"
  }
 },
 "nbformat": 4,
 "nbformat_minor": 2
}
