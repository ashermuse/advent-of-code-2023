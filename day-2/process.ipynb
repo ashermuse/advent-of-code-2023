{
 "cells": [
  {
   "cell_type": "code",
   "execution_count": null,
   "metadata": {},
   "outputs": [],
   "source": [
    "import regex as re\n",
    "import numpy as np"
   ]
  },
  {
   "cell_type": "code",
   "execution_count": null,
   "metadata": {},
   "outputs": [],
   "source": [
    "max_vals = {\"red\":12,\n",
    "            \"green\":13,\n",
    "            \"blue\":14}"
   ]
  },
  {
   "cell_type": "code",
   "execution_count": null,
   "metadata": {},
   "outputs": [],
   "source": [
    "possible_games = []\n",
    "with open(\"input.txt\") as input:\n",
    "    game_num = 1\n",
    "    for line in input:\n",
    "        game = line.strip().split(\":\")[1]\n",
    "        game_is_possible = True\n",
    "        for cubes in re.finditer(r\"(?<count>\\d+) (?<color>red|green|blue)\", game):\n",
    "            if int(cubes['count']) > max_vals[cubes['color']]:\n",
    "                game_is_possible = False\n",
    "                break\n",
    "        \n",
    "        if game_is_possible:\n",
    "            possible_games.append(game_num)\n",
    "        game_num += 1"
   ]
  },
  {
   "cell_type": "code",
   "execution_count": null,
   "metadata": {},
   "outputs": [],
   "source": [
    "sum(possible_games)"
   ]
  },
  {
   "cell_type": "code",
   "execution_count": null,
   "metadata": {},
   "outputs": [],
   "source": [
    "game_power = []\n",
    "with open(\"input.txt\") as input:\n",
    "    for line in input:\n",
    "        game = line.strip().split(\":\")[1]\n",
    "\n",
    "        max_vals = {\"red\":0,\n",
    "                    \"green\":0,\n",
    "                    \"blue\":0}\n",
    "        for cubes in re.finditer(r\"(?<count>\\d+) (?<color>red|green|blue)\", game):\n",
    "            max_vals[cubes['color']] = max(max_vals[cubes['color']], int(cubes['count']))\n",
    "        \n",
    "        power = 1\n",
    "        for val in max_vals.values():\n",
    "            power *= val\n",
    "        \n",
    "        game_power.append(power)"
   ]
  },
  {
   "cell_type": "code",
   "execution_count": null,
   "metadata": {},
   "outputs": [],
   "source": [
    "sum(game_power)"
   ]
  }
 ],
 "metadata": {
  "kernelspec": {
   "display_name": "base",
   "language": "python",
   "name": "python3"
  },
  "language_info": {
   "codemirror_mode": {
    "name": "ipython",
    "version": 3
   },
   "file_extension": ".py",
   "mimetype": "text/x-python",
   "name": "python",
   "nbconvert_exporter": "python",
   "pygments_lexer": "ipython3",
   "version": "3.11.5"
  }
 },
 "nbformat": 4,
 "nbformat_minor": 2
}
