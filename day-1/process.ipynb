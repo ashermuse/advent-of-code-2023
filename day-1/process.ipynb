{
 "cells": [
  {
   "cell_type": "markdown",
   "metadata": {},
   "source": [
    "### Problem Description\n",
    "- Parse each line of the input\n",
    "- First digit and last digit concatenated forms a two digit number for each row\n",
    "- Sum all of the digits created from each row"
   ]
  },
  {
   "cell_type": "code",
   "execution_count": null,
   "metadata": {},
   "outputs": [],
   "source": [
    "import pandas as pd\n",
    "import regex as re"
   ]
  },
  {
   "cell_type": "code",
   "execution_count": null,
   "metadata": {},
   "outputs": [],
   "source": [
    "df = pd.read_csv(\"input.txt\", header=None)"
   ]
  },
  {
   "cell_type": "code",
   "execution_count": null,
   "metadata": {},
   "outputs": [],
   "source": [
    "def find_digits(text) -> int:\n",
    "    if type(text) != str:\n",
    "        text = text[0]\n",
    "    digits = re.findall(r'\\d', text)\n",
    "    return int(digits[0] + digits[-1])\n",
    "    \n",
    "\n",
    "df[\"nums\"] = df.apply(find_digits, axis=1)"
   ]
  },
  {
   "cell_type": "code",
   "execution_count": null,
   "metadata": {},
   "outputs": [],
   "source": [
    "df[\"nums\"].sum()"
   ]
  },
  {
   "cell_type": "code",
   "execution_count": null,
   "metadata": {},
   "outputs": [],
   "source": [
    "df"
   ]
  },
  {
   "cell_type": "markdown",
   "metadata": {},
   "source": [
    "### Part 2\n",
    "- You must now consider spelled out numbers"
   ]
  },
  {
   "cell_type": "code",
   "execution_count": null,
   "metadata": {},
   "outputs": [],
   "source": [
    "def find_digits(text) -> int:\n",
    "    digits = re.findall(r'(\\d|zero|one|two|three|four|five|six|seven|eight|nine)', text[0], overlapped=True)\n",
    "\n",
    "    help_dict = {\n",
    "        'one': '1',\n",
    "        'two': '2',\n",
    "        'three': '3',\n",
    "        'four': '4',\n",
    "        'five': '5',\n",
    "        'six': '6',\n",
    "        'seven': '7',\n",
    "        'eight': '8',\n",
    "        'nine': '9'\n",
    "    }\n",
    "\n",
    "    if digits[0] in help_dict.keys():\n",
    "        p1 = help_dict[digits[0]]\n",
    "    else:\n",
    "        p1 = digits[0]\n",
    "    \n",
    "    if digits[-1] in help_dict.keys():\n",
    "        p2 = help_dict[digits[-1]]\n",
    "    else:\n",
    "        p2 = digits[-1]\n",
    "\n",
    "    return int(p1 + p2)\n",
    "    \n",
    "\n",
    "df[\"nums2\"] = df.apply(find_digits, axis=1)"
   ]
  },
  {
   "cell_type": "code",
   "execution_count": null,
   "metadata": {},
   "outputs": [],
   "source": [
    "df[\"nums2\"].sum()"
   ]
  }
 ],
 "metadata": {
  "kernelspec": {
   "display_name": "base",
   "language": "python",
   "name": "python3"
  },
  "language_info": {
   "codemirror_mode": {
    "name": "ipython",
    "version": 3
   },
   "file_extension": ".py",
   "mimetype": "text/x-python",
   "name": "python",
   "nbconvert_exporter": "python",
   "pygments_lexer": "ipython3",
   "version": "3.11.5"
  }
 },
 "nbformat": 4,
 "nbformat_minor": 2
}
