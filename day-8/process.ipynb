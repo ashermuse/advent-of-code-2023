{
 "cells": [
  {
   "cell_type": "code",
   "execution_count": null,
   "metadata": {},
   "outputs": [],
   "source": [
    "from math import gcd\n",
    "from functools import reduce"
   ]
  },
  {
   "cell_type": "code",
   "execution_count": null,
   "metadata": {},
   "outputs": [],
   "source": [
    "with open(\"input.txt\") as input:\n",
    "    lines = [line.strip() for line in input]\n",
    "\n",
    "marching_orders = lines[0].translate(str.maketrans(\"LR\", \"01\"))\n",
    "\n",
    "network_map = {}\n",
    "for line in lines[2:]:\n",
    "    key = line[0:3]\n",
    "    left = line[7:10]\n",
    "    right = line[12:15]\n",
    "    network_map[key] = (left, right)\n",
    "\n",
    "target = \"ZZZ\"\n",
    "key = \"AAA\"\n",
    "total_traveled = 0\n",
    "while(key != target):\n",
    "    path_index = total_traveled % len(marching_orders)\n",
    "    key = network_map[key][int(marching_orders[path_index])]\n",
    "    total_traveled += 1"
   ]
  },
  {
   "cell_type": "code",
   "execution_count": null,
   "metadata": {},
   "outputs": [],
   "source": [
    "print(total_traveled)"
   ]
  },
  {
   "cell_type": "code",
   "execution_count": null,
   "metadata": {},
   "outputs": [],
   "source": [
    "with open(\"input.txt\") as input:\n",
    "    lines = [line.strip() for line in input]\n",
    "\n",
    "marching_orders = lines[0].translate(str.maketrans(\"LR\", \"01\"))\n",
    "\n",
    "network_map = {}\n",
    "for line in lines[2:]:\n",
    "    key = line[0:3]\n",
    "    left = line[7:10]\n",
    "    right = line[12:15]\n",
    "    network_map[key] = (left, right)\n",
    "\n",
    "\n",
    "\n",
    "# Need to keep track of number of times to find first match.\n",
    "# Once I've had one match for all of the targets, we can compute with LCD\n",
    "targets = [target for target in network_map.keys() if target.endswith(\"Z\")]\n",
    "keys = [key for key in network_map.keys() if key.endswith(\"A\")]\n",
    "first_match = [-1] * len(keys)\n",
    "total_traveled = 0\n",
    "while(not all(x > 0 for x in first_match)):\n",
    "    path_index = total_traveled % len(marching_orders)\n",
    "    total_traveled += 1\n",
    "    for i in range(len(keys)):\n",
    "        keys[i] = network_map[keys[i]][int(marching_orders[path_index])]\n",
    "        if keys[i] in targets:\n",
    "            first_match[i] = total_traveled\n",
    "\n",
    "def lcm(denominators):\n",
    "    return reduce(lambda a,b: a*b // gcd(a,b), denominators)\n",
    "\n",
    "answer = lcm(first_match)"
   ]
  },
  {
   "cell_type": "code",
   "execution_count": null,
   "metadata": {},
   "outputs": [],
   "source": [
    "print(answer)"
   ]
  }
 ],
 "metadata": {
  "kernelspec": {
   "display_name": "base",
   "language": "python",
   "name": "python3"
  },
  "language_info": {
   "codemirror_mode": {
    "name": "ipython",
    "version": 3
   },
   "file_extension": ".py",
   "mimetype": "text/x-python",
   "name": "python",
   "nbconvert_exporter": "python",
   "pygments_lexer": "ipython3",
   "version": "3.11.5"
  }
 },
 "nbformat": 4,
 "nbformat_minor": 2
}
