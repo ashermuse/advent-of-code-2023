{
 "cells": [
  {
   "cell_type": "code",
   "execution_count": 2,
   "metadata": {},
   "outputs": [],
   "source": [
    "import regex as re\n",
    "import numpy as np"
   ]
  },
  {
   "cell_type": "code",
   "execution_count": 88,
   "metadata": {},
   "outputs": [],
   "source": [
    "with open(\"input.txt\") as input:\n",
    "    data = input.read()\n",
    "    line_span = data.find(\"\\n\")\n",
    "    data = data.replace(\"\\n\", \"\")\n",
    "    \n",
    "non_symbols = [str(x) for x in range(0, 10)]\n",
    "non_symbols.append(\".\")\n",
    "\n",
    "part_numbers = []\n",
    "for possible_num in re.finditer(r\"\\d+\", data):\n",
    "    # from x to y\n",
    "    # Must look at x to y - line_span\n",
    "    # Must look at x to y + line_span\n",
    "    # must look at x - 1\n",
    "    # must look at y + 1\n",
    "    # must look at diagnols x-1-line_span, x-1+line_span, y+line_span, y+line_span\n",
    "    # must not look left if x is 0 or divisible by line_span\n",
    "    # must not look right if y 9 or has remainder of 9 when divided by line_span\n",
    "    \n",
    "    # We're going to break it into left (including diag), right (including diag), top, bottom\n",
    "\n",
    "    x, y = possible_num.span()\n",
    "\n",
    "    \n",
    "\n",
    "    # Check top\n",
    "    check_top = not x - line_span < 0\n",
    "    # Check bottom\n",
    "    check_bottom = not x + line_span > len(data)\n",
    "    # Check left\n",
    "    check_left = not x % line_span == 0\n",
    "    # Check right\n",
    "    check_right = not y % line_span == 0\n",
    "\n",
    "    for i in range(x, y):\n",
    "        # Check above then check below\n",
    "        if (check_top and (not data[i-line_span] in non_symbols)) or (check_bottom and (not data[i+line_span] in non_symbols)):\n",
    "            part_numbers.append(int(possible_num.group()))\n",
    "    else: # if we don't find the result above keep looking\n",
    "        # Check left then check top left then check bottom left\n",
    "        if check_left and ((not data[x-1] in non_symbols) or (check_top and (not data[x-1-line_span] in non_symbols)) or (check_bottom and (not data[x-1+line_span] in non_symbols))):\n",
    "            part_numbers.append(int(possible_num.group()))\n",
    "        # Check right then check top right then check bottom right\n",
    "        elif check_right and ((not data[y] in non_symbols) or (check_top and (not data[y-line_span] in non_symbols)) or (check_bottom and (not data[y+line_span] in non_symbols))): \n",
    "            part_numbers.append(int(possible_num.group()))"
   ]
  },
  {
   "cell_type": "code",
   "execution_count": null,
   "metadata": {},
   "outputs": [],
   "source": [
    "print(sum(part_numbers))"
   ]
  },
  {
   "cell_type": "code",
   "execution_count": 198,
   "metadata": {},
   "outputs": [],
   "source": [
    "def round_down(num, divisor):\n",
    "    return num - (num%divisor)\n",
    "def round_up(num, divisor):\n",
    "    return (num+divisor-1) // divisor * divisor\n",
    "\n",
    "with open(\"input.txt\") as input:\n",
    "    data = input.read()\n",
    "    line_span = data.find(\"\\n\")\n",
    "    data = data.replace(\"\\n\", \"\")\n",
    "\n",
    "gear_ratios = []\n",
    "digits = [x for x in re.finditer(r\"\\d+\", data)]\n",
    "for gear in re.finditer(r\"\\*\", data):\n",
    "\n",
    "    gear_index = gear.span()[0]\n",
    "\n",
    "    positions = [gear_index-line_span, #up\n",
    "                 gear_index+line_span, #down\n",
    "                 gear_index-1, #left\n",
    "                 gear_index+1, #right\n",
    "                 gear_index-line_span-1, #upleft\n",
    "                 gear_index-line_span+1, #upright\n",
    "                 gear_index+line_span-1, #downleft\n",
    "                 gear_index+line_span+1 #downright\n",
    "                 ]\n",
    "    \n",
    "    connected_digits = []\n",
    "\n",
    "    # Checking digits from two lines above and two lines below ensures we capture the full digits without looking at unnecessary digits\n",
    "    pos_offset = max(0, round_down(gear_index, line_span) - line_span)\n",
    "    end_pos = min(len(data), round_up(gear_index, line_span) + line_span)\n",
    "    for digit in re.finditer(r\"\\d+\", data[pos_offset:], endpos=end_pos):\n",
    "        digit_span = digit.span()\n",
    "        digit_x = digit_span[0] + pos_offset\n",
    "        digit_y = digit_span[1] + pos_offset\n",
    "        for position in positions:\n",
    "            if position in range(digit_x, digit_y):\n",
    "                connected_digits.append(digit)\n",
    "                break\n",
    "\n",
    "    if len(set(connected_digits)) == 2:\n",
    "        gear_ratios.append(int(connected_digits[0].group()) * int(connected_digits[1].group()))"
   ]
  },
  {
   "cell_type": "code",
   "execution_count": 199,
   "metadata": {},
   "outputs": [
    {
     "name": "stdout",
     "output_type": "stream",
     "text": [
      "78272573\n"
     ]
    }
   ],
   "source": [
    "print(sum(gear_ratios))"
   ]
  }
 ],
 "metadata": {
  "kernelspec": {
   "display_name": "base",
   "language": "python",
   "name": "python3"
  },
  "language_info": {
   "codemirror_mode": {
    "name": "ipython",
    "version": 3
   },
   "file_extension": ".py",
   "mimetype": "text/x-python",
   "name": "python",
   "nbconvert_exporter": "python",
   "pygments_lexer": "ipython3",
   "version": "3.11.5"
  }
 },
 "nbformat": 4,
 "nbformat_minor": 2
}
