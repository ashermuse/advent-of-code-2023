{
 "cells": [
  {
   "cell_type": "code",
   "execution_count": null,
   "metadata": {},
   "outputs": [],
   "source": [
    "import regex as re"
   ]
  },
  {
   "cell_type": "code",
   "execution_count": null,
   "metadata": {},
   "outputs": [],
   "source": [
    "with open(\"input.txt\") as input:\n",
    "    data = input.read()\n",
    "    lines = re.split(r\":|\\n\\n\", data)\n",
    "    seeds = re.findall(r\"\\d+\", lines[1])\n",
    "    seeds = [int(x) for x in seeds]\n",
    "    # Passing over one seed at a time\n",
    "    for i, seed in enumerate(seeds):\n",
    "\n",
    "        # Passing each map chunk\n",
    "        for line in lines[2:]:\n",
    "            range_maps = re.findall(r\"\\d+ \\d+ \\d+\", line)\n",
    "\n",
    "            # Passing over each range (line)\n",
    "            for range_map in range_maps:\n",
    "                destination_range_start, source_range_start, range_length = [int(x) for x in range_map.split()]\n",
    "\n",
    "                if source_range_start <= seeds[i] and seeds[i] < source_range_start + range_length:\n",
    "                    seeds[i] = destination_range_start + seeds[i] - source_range_start\n",
    "                    break\n",
    "            \n"
   ]
  },
  {
   "cell_type": "code",
   "execution_count": null,
   "metadata": {},
   "outputs": [],
   "source": [
    "print(min(seeds))"
   ]
  },
  {
   "cell_type": "code",
   "execution_count": null,
   "metadata": {},
   "outputs": [],
   "source": [
    "def find_range_overlap(x_start, y_start, x_end, y_end):\n",
    "    return range(max(x_start, y_start), min(x_end,y_end))\n",
    "\n",
    "with open(\"input.txt\") as input:\n",
    "    data = input.read()\n",
    "    lines = re.split(r\":|\\n\\n\", data)\n",
    "    seed_ranges = re.findall(r\"\\d+\", lines[1])\n",
    "    seed_ranges = [int(x) for x in seed_ranges]\n",
    "    it = iter(seed_ranges)\n",
    "    seed_ranges = list(zip(it,it))\n",
    "    \n",
    "    \n",
    "    # Passing each map chunk\n",
    "    for line in lines[2:]:\n",
    "        range_maps = re.findall(r\"\\d+ \\d+ \\d+\", line)\n",
    " \n",
    "        if not range_maps:\n",
    "            continue\n",
    "\n",
    "        new_seed_ranges = []\n",
    "        both_sides_overlap = range(0, 0)\n",
    "        # Passing over one seed at a time\n",
    "        for seed_range in seed_ranges:\n",
    "            consumed = 0\n",
    "            seed_range_start, seed_range_length = seed_range\n",
    "            seed_range_end = seed_range_start + seed_range_length\n",
    "            for range_map in range_maps:\n",
    "                destination_range_start, source_range_start, range_length = [int(x) for x in range_map.split()]\n",
    "                \n",
    "                # Check for overlap between two ranges\n",
    "                overlap = find_range_overlap(seed_range_start, source_range_start, seed_range_end, source_range_start+range_length)\n",
    "                \n",
    "                if overlap:\n",
    "                    how_much_it_overlaps = len(overlap)\n",
    "                    total_potential_overlap = min(seed_range_length, range_length)\n",
    "                    how_much_is_staying_behind = total_potential_overlap - how_much_it_overlaps\n",
    "                    # Entirely overlaps\n",
    "                    consumed += how_much_it_overlaps\n",
    "                    if how_much_it_overlaps == seed_range_length:\n",
    "                        new_seed_ranges.append((destination_range_start + seed_range_start - source_range_start, how_much_it_overlaps))\n",
    "                    else:\n",
    "                        # if overlap is below or above\n",
    "                        if seed_range_start < source_range_start and source_range_start < seed_range_end:\n",
    "                            # the seed has leftovers on both sides\n",
    "                            both_sides_overlap = overlap\n",
    "                            new_seed_ranges.append((destination_range_start, how_much_it_overlaps))\n",
    "                        elif seed_range_start < source_range_start:\n",
    "                            # the seed has some leftovers on the left\n",
    "                            new_seed_ranges.append((destination_range_start, how_much_it_overlaps))\n",
    "                        else:\n",
    "                            # the seed has some leftovers on the right\n",
    "                            new_seed_ranges.append((destination_range_start + seed_range_start - source_range_start, how_much_it_overlaps))\n",
    "\n",
    "            if consumed == 0:\n",
    "                new_seed_ranges.append(seed_range)\n",
    "            elif consumed < seed_range_length:\n",
    "                if not find_range_overlap(seed_range_start, both_sides_overlap.start, seed_range_end, both_sides_overlap.stop):\n",
    "                    new_seed_ranges.append((seed_range_start, how_much_is_staying_behind))\n",
    "                else:\n",
    "                    # What part of range(seed_range_start, seed_range_end) is NOT currently reflected in new_seed_range\n",
    "                    new_seed_ranges.append((seed_range_start+consumed, seed_range_length-consumed))\n",
    "\n",
    "        seed_ranges = new_seed_ranges"
   ]
  },
  {
   "cell_type": "code",
   "execution_count": null,
   "metadata": {},
   "outputs": [],
   "source": [
    "min(seed_ranges, key = lambda t: t[0])[0]"
   ]
  }
 ],
 "metadata": {
  "kernelspec": {
   "display_name": "base",
   "language": "python",
   "name": "python3"
  },
  "language_info": {
   "codemirror_mode": {
    "name": "ipython",
    "version": 3
   },
   "file_extension": ".py",
   "mimetype": "text/x-python",
   "name": "python",
   "nbconvert_exporter": "python",
   "pygments_lexer": "ipython3",
   "version": "3.11.5"
  }
 },
 "nbformat": 4,
 "nbformat_minor": 2
}
