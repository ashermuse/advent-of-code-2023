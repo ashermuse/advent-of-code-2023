{
 "cells": [
  {
   "cell_type": "code",
   "execution_count": null,
   "metadata": {},
   "outputs": [],
   "source": [
    "def compute_camel_score(hand : str) -> int:\n",
    "    cards = {}\n",
    "    for card in hand:\n",
    "        cards[card] = cards.get(card, 0) + 1\n",
    "    \n",
    "    match len(cards):\n",
    "        case 1:\n",
    "            result = 0 # five of a kind\n",
    "        case 2:\n",
    "            if 4 in cards.values():\n",
    "                result = 1 # four of a kind\n",
    "            else:\n",
    "                result = 2 # full house\n",
    "        case 3:\n",
    "            if 3 in cards.values():\n",
    "                result = 3 # three of a kind\n",
    "            else:\n",
    "                result = 4 # two pair\n",
    "        case 4:\n",
    "            result = 5 # one pair\n",
    "        case 5:\n",
    "            result = 6 # high card\n",
    "    return result\n",
    "\n",
    "with open(\"input.txt\") as input:\n",
    "    components = []\n",
    "    for line in input:\n",
    "        hand, bet = line.split()\n",
    "        hand = hand.translate(str.maketrans(\"AKQJT987654321\", \"ABCDEabcdefghi\"))\n",
    "        score = compute_camel_score(hand)\n",
    "        components.append((hand, bet, score))\n",
    "\n",
    "\n",
    "sorted_components = sorted(components, key=lambda hand_bet_score: (hand_bet_score[2], hand_bet_score[0]), reverse=True)"
   ]
  },
  {
   "cell_type": "code",
   "execution_count": null,
   "metadata": {},
   "outputs": [],
   "source": [
    "print(sum([int(x[1]) * (i+1) for i, x in enumerate(sorted_components)]))"
   ]
  },
  {
   "cell_type": "code",
   "execution_count": null,
   "metadata": {},
   "outputs": [],
   "source": [
    "def compute_camel_score(hand : str) -> int:\n",
    "    wild_token = \"z\"\n",
    "\n",
    "    cards = {}\n",
    "    for card in hand:\n",
    "        cards[card] = cards.get(card, 0) + 1\n",
    "    \n",
    "\n",
    "    if wild_token in cards.keys():\n",
    "        wild = cards.pop(wild_token)\n",
    "    else:\n",
    "        wild = 0\n",
    "\n",
    "    match len(cards):\n",
    "        case 1:\n",
    "            result = 0 # five of a kind\n",
    "        case 2:\n",
    "            if 4 - wild in cards.values():\n",
    "                result = 1 # four of a kind\n",
    "            else:\n",
    "                result = 2 # full house\n",
    "        case 3:\n",
    "            if 3 - wild in cards.values():\n",
    "                result = 3 # three of a kind\n",
    "            else:\n",
    "                result = 4 # two pair\n",
    "        case 4:\n",
    "            result = 5 # one pair\n",
    "        case 5:\n",
    "            result = 6 # high card\n",
    "        case 0:\n",
    "            result = 0 # five of a kind, all jokers\n",
    "   \n",
    "    return result\n",
    "\n",
    "with open(\"input.txt\") as input:\n",
    "    components = []\n",
    "    for line in input:\n",
    "        hand, bet = line.split()\n",
    "        hand = hand.translate(str.maketrans(\"AKQJT987654321\", \"ABCzEabcdefghi\"))\n",
    "        score = compute_camel_score(hand)\n",
    "        components.append((hand, bet, score))\n",
    "\n",
    "\n",
    "sorted_components = sorted(components, key=lambda hand_bet_score: (hand_bet_score[2], hand_bet_score[0]), reverse=True)"
   ]
  },
  {
   "cell_type": "code",
   "execution_count": null,
   "metadata": {},
   "outputs": [],
   "source": [
    "print(sum([int(x[1]) * (i+1) for i, x in enumerate(sorted_components)]))"
   ]
  }
 ],
 "metadata": {
  "kernelspec": {
   "display_name": "base",
   "language": "python",
   "name": "python3"
  },
  "language_info": {
   "codemirror_mode": {
    "name": "ipython",
    "version": 3
   },
   "file_extension": ".py",
   "mimetype": "text/x-python",
   "name": "python",
   "nbconvert_exporter": "python",
   "pygments_lexer": "ipython3",
   "version": "3.11.5"
  }
 },
 "nbformat": 4,
 "nbformat_minor": 2
}
